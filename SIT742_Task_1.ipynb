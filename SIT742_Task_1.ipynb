{
  "nbformat": 4,
  "nbformat_minor": 0,
  "metadata": {
    "colab": {
      "provenance": [],
      "authorship_tag": "ABX9TyM/efNyi62FXi/b205BVDeK",
      "include_colab_link": true
    },
    "kernelspec": {
      "name": "python3",
      "display_name": "Python 3"
    },
    "language_info": {
      "name": "python"
    }
  },
  "cells": [
    {
      "cell_type": "markdown",
      "metadata": {
        "id": "view-in-github",
        "colab_type": "text"
      },
      "source": [
        "<a href=\"https://colab.research.google.com/github/russellbestman/Deakin-Unit-Page/blob/main/SIT742_Task_1.ipynb\" target=\"_parent\"><img src=\"https://colab.research.google.com/assets/colab-badge.svg\" alt=\"Open In Colab\"/></a>"
      ]
    },
    {
      "cell_type": "markdown",
      "source": [
        "Student ID: 221371301\n",
        "\n",
        "Student Name: Russell Bestman\n",
        "\n",
        "Student Lab time: Friday 8-10AM & Wednesday 9-11AM"
      ],
      "metadata": {
        "id": "J4jbcxkVu3lL"
      }
    },
    {
      "cell_type": "markdown",
      "source": [
        "Part 1 of the Assessment :"
      ],
      "metadata": {
        "id": "2j0SSEFeZwIR"
      }
    },
    {
      "cell_type": "markdown",
      "source": [
        "Question 1\n",
        "\n",
        "Write a method “is ̇divisible” that takes two integers, m and n. The method returns True if m is divisible by n, and returns False otherwise. Give three test cases for this function and three test cases should include cases that return values on True and False. Be sure to test your function well, including at least three test cases."
      ],
      "metadata": {
        "id": "YVZ8-aUXOCtu"
      }
    },
    {
      "cell_type": "code",
      "execution_count": null,
      "metadata": {
        "id": "TE8ygPc7Keid"
      },
      "outputs": [],
      "source": [
        "#Answer 1\n",
        "\n",
        "# Define the function \"is_divisible\" which verifys if m is divisible by n\n",
        "def is_divisible(m, n):\n",
        "    \"\"\"\n",
        "    This function checks if m is divisible by n.\n",
        "\n",
        "    Parameters:\n",
        "    m (int): The dividend.\n",
        "    n (int): The divisor.\n",
        "\n",
        "    Returns:\n",
        "    bool: True if m is divisible by n, otherwise False.\n",
        "    \"\"\"\n",
        "    # Make sure if n is zero to avoid division by zero error\n",
        "    if n == 0:\n",
        "        raise ValueError(\"The divisor 'n' cannot be zero.\")\n",
        "\n",
        "    # Return True if m is divisible by n, otherwise return False\n",
        "    return m % n == 0"
      ]
    },
    {
      "cell_type": "code",
      "source": [
        "# Test cases for the is_divisible function\n",
        "# Case 1: m is divisible by n\n",
        "test_case_1 = is_divisible(10, 2)\n",
        "print(f\"Test Case 1 - is_divisible(10, 2): {test_case_1}\")\n",
        "\n",
        "# Case 2: m is not divisible by n\n",
        "test_case_2 = is_divisible(10, 3)\n",
        "print(f\"Test Case 2 - is_divisible(10, 3): {test_case_2}\")\n",
        "\n",
        "# Case 3: m is divisible by n\n",
        "test_case_3 = is_divisible(15, 5)\n",
        "print(f\"Test Case 3 - is_divisible(15, 5): {test_case_3}\")"
      ],
      "metadata": {
        "colab": {
          "base_uri": "https://localhost:8080/"
        },
        "id": "w3LZWaeTKs2x",
        "outputId": "0a65748d-1cd2-468e-a129-f8d19f91e6a6"
      },
      "execution_count": null,
      "outputs": [
        {
          "output_type": "stream",
          "name": "stdout",
          "text": [
            "Test Case 1 - is_divisible(10, 2): True\n",
            "Test Case 2 - is_divisible(10, 3): False\n",
            "Test Case 3 - is_divisible(15, 5): True\n"
          ]
        }
      ]
    },
    {
      "cell_type": "markdown",
      "source": [
        "Question 2\n",
        "\n",
        "Imagine that Python does not have the != operator built in. Write a method “not_equal” that takes two variables(any variable type) and gives the same result as the != operator. Obviously, you cannot use != within your function! Test if your code works by thinking of examples and making sure the output is the same for your new method as != gives you. Be sure to test your function well, including at least 3 test cases."
      ],
      "metadata": {
        "id": "JtktcvGnOHUe"
      }
    },
    {
      "cell_type": "code",
      "source": [
        "#Answer 2\n",
        "\n",
        "def not_equal(a, b):\n",
        "    \"\"\"\n",
        "    This function checks if two variables a and b are not equal.\n",
        "\n",
        "    Parameters:\n",
        "    a (any type): The first variable.\n",
        "    b (any type): The second variable.\n",
        "\n",
        "    Returns:\n",
        "    bool: True if a is not equal to b, otherwise False.\n",
        "    \"\"\"\n",
        "    # Use the == operator and logical negation to check for inequality\n",
        "    return not (a == b)"
      ],
      "metadata": {
        "id": "z-wnsagqOMdK"
      },
      "execution_count": null,
      "outputs": []
    },
    {
      "cell_type": "code",
      "source": [
        "# Test cases for the not_equal function\n",
        "# Case 1: Different integers (try to return True)\n",
        "test_case_1 = not_equal(5, 3)\n",
        "print(f\"Test Case 1 - not_equal(5, 3): {test_case_1}\")\n",
        "\n",
        "# Case 2: Same strings (try to return False)\n",
        "test_case_2 = not_equal(\"hello\", \"hello\")\n",
        "print(f\"Test Case 2 - not_equal('hello', 'hello'): {test_case_2}\")\n",
        "\n",
        "# Case 3: Different lists (try to return True)\n",
        "test_case_3 = not_equal([1, 2, 3], [1, 2, 3, 4])\n",
        "print(f\"Test Case 3 - not_equal([1, 2, 3], [1, 2, 3, 4]): {test_case_3}\")"
      ],
      "metadata": {
        "colab": {
          "base_uri": "https://localhost:8080/"
        },
        "id": "sDY_YoaORQXj",
        "outputId": "0caaf7f4-2519-43fb-bc05-d8fd4f6f5da6"
      },
      "execution_count": null,
      "outputs": [
        {
          "output_type": "stream",
          "name": "stdout",
          "text": [
            "Test Case 1 - not_equal(5, 3): True\n",
            "Test Case 2 - not_equal('hello', 'hello'): False\n",
            "Test Case 3 - not_equal([1, 2, 3], [1, 2, 3, 4]): True\n"
          ]
        }
      ]
    },
    {
      "cell_type": "markdown",
      "source": [
        "Question 3\n",
        "\n",
        "List Comprehensions, you will need to perform and understand list comprehensions programming in below two small tasks.\n",
        "• Write a list comprehension that prints out the possible results of three coin flips (how many results should be there?)\n",
        "• Run this list comprehension in your notebook: [x+y for x in [10,20,30] for y in [1,2,3]]. Figure out what is going on here, and write a nested for loop that gives you the same result."
      ],
      "metadata": {
        "id": "ryvT2bWdSEfP"
      }
    },
    {
      "cell_type": "code",
      "source": [
        "#Answer 3\n",
        "\n",
        "# Possible outcomes for three coin flips using list comprehension\n",
        "coin_flips = [(a, b, c) for a in ['H', 'T'] for b in ['H', 'T'] for c in ['H', 'T']]\n",
        "print(coin_flips)\n",
        "\n",
        "# Print the total number of outcomes possible\n",
        "print(f\"Number of outcomes possible: {len(coin_flips)}\")"
      ],
      "metadata": {
        "colab": {
          "base_uri": "https://localhost:8080/"
        },
        "id": "qtJ0bBJsSF8J",
        "outputId": "9c027118-0d2c-4721-fcfb-be2c93f404b7"
      },
      "execution_count": 2,
      "outputs": [
        {
          "output_type": "stream",
          "name": "stdout",
          "text": [
            "[('H', 'H', 'H'), ('H', 'H', 'T'), ('H', 'T', 'H'), ('H', 'T', 'T'), ('T', 'H', 'H'), ('T', 'H', 'T'), ('T', 'T', 'H'), ('T', 'T', 'T')]\n",
            "Number of outcomes possible: 8\n"
          ]
        }
      ]
    },
    {
      "cell_type": "code",
      "source": [
        "# List comprehension result\n",
        "result = [x + y for x in [10, 20, 30] for y in [1, 2, 3]]\n",
        "print(\"List comprehension result:\", result)"
      ],
      "metadata": {
        "colab": {
          "base_uri": "https://localhost:8080/"
        },
        "id": "KGAVP5P6SfbZ",
        "outputId": "fbb1c1df-fa9b-4ec1-b653-8a1dbd98ea08"
      },
      "execution_count": 3,
      "outputs": [
        {
          "output_type": "stream",
          "name": "stdout",
          "text": [
            "List comprehension result: [11, 12, 13, 21, 22, 23, 31, 32, 33]\n"
          ]
        }
      ]
    },
    {
      "cell_type": "code",
      "source": [
        "# Write a nested loop, equivalent nested for loop\n",
        "nested_result = []\n",
        "for x in [10, 20, 30]:\n",
        "    for y in [1, 2, 3]:\n",
        "        nested_result.append(x + y)\n",
        "\n",
        "print(\"loop result nested:\", nested_result)"
      ],
      "metadata": {
        "colab": {
          "base_uri": "https://localhost:8080/"
        },
        "id": "IePrkicvUAfh",
        "outputId": "72cfaf21-b228-4a06-9ced-b2100a4180ef"
      },
      "execution_count": 5,
      "outputs": [
        {
          "output_type": "stream",
          "name": "stdout",
          "text": [
            "loop result nested: [11, 12, 13, 21, 22, 23, 31, 32, 33]\n"
          ]
        }
      ]
    },
    {
      "cell_type": "markdown",
      "source": [
        "Question 4\n",
        "\n",
        "Write a function ”find_digits” that takes in a string and uses a list comprehension to return all the int digits in the string if any (assuming string only contain digits from 0 to 9). Be sure to test your function well, including at least 3 test cases."
      ],
      "metadata": {
        "id": "WgJYzq8zUmgJ"
      }
    },
    {
      "cell_type": "code",
      "source": [
        "#Answer 4\n",
        "\n",
        "def find_digits(input_string):\n",
        "    \"\"\"\n",
        "    Function takes a string and returns a list of integer digits within the string.\n",
        "\n",
        "    Parameters:\n",
        "    input_string (str): The input string containing digits.\n",
        "\n",
        "    Returns:\n",
        "    list: A list of integers representing the digits found in the input string.\n",
        "    \"\"\"\n",
        "    # Use list comprehension to extract digits and convert them to integers\n",
        "    return [int(char) for char in input_string if char.isdigit()]"
      ],
      "metadata": {
        "id": "uuSVGhEPSgSr"
      },
      "execution_count": 6,
      "outputs": []
    },
    {
      "cell_type": "code",
      "source": [
        "# Print 3 test cases for the find_digits function\n",
        "\n",
        "# Case 1: Multiple digits at different parts of string\n",
        "test_case_1 = find_digits(\"abc123def456\")\n",
        "print(f\"Test Case 1 - find_digits('abc123def456'): {test_case_1}\")\n",
        "\n",
        "# Case 2: No digits, only letter, should be blank\n",
        "test_case_2 = find_digits(\"abcdef\")\n",
        "print(f\"Test Case 2 - find_digits('abcdef'): {test_case_2}\")\n",
        "\n",
        "# Case 3: Digits only\n",
        "test_case_3 = find_digits(\"7890\")\n",
        "print(f\"Test Case 3 - find_digits('7890'): {test_case_3}\")"
      ],
      "metadata": {
        "colab": {
          "base_uri": "https://localhost:8080/"
        },
        "id": "nqA9l9OuUr9V",
        "outputId": "f15398e7-bcd7-4316-ea0e-5c3b9e2b9216"
      },
      "execution_count": 7,
      "outputs": [
        {
          "output_type": "stream",
          "name": "stdout",
          "text": [
            "Test Case 1 - find_digits('abc123def456'): [1, 2, 3, 4, 5, 6]\n",
            "Test Case 2 - find_digits('abcdef'): []\n",
            "Test Case 3 - find_digits('7890'): [7, 8, 9, 0]\n"
          ]
        }
      ]
    },
    {
      "cell_type": "markdown",
      "source": [
        "Question 5\n",
        "\n",
        "Write a list comprehension which solves the equation y = 2x2 − 1 like Figure 2. Your solution should print out a list of [x,y] pairs; use the domain x ∈ [−3,3] and the range y ∈ [0,30]. x and y are all integers and you could use range for simulation on the x and y.\n"
      ],
      "metadata": {
        "id": "FWvaFK4FU7AV"
      }
    },
    {
      "cell_type": "code",
      "source": [
        "#Answer 5\n",
        "\n",
        "# List comprehension to solve the equation y = 2x^2 - 1\n",
        "solution_pairs = [[x, y] for x in range(-3, 4) for y in range(0, 31) if y == 2 * x ** 2 - 1]\n",
        "\n",
        "# Print the result\n",
        "print(solution_pairs)\n",
        "\n",
        "#Note -3 and 3 are off the grid so unable to verify results based on the diagram (unable to test based on diagram)"
      ],
      "metadata": {
        "colab": {
          "base_uri": "https://localhost:8080/"
        },
        "id": "9r_jPqVBU85t",
        "outputId": "1c14f8aa-6061-405b-ba0a-0d6665e8a1e8"
      },
      "execution_count": 8,
      "outputs": [
        {
          "output_type": "stream",
          "name": "stdout",
          "text": [
            "[[-3, 17], [-2, 7], [-1, 1], [1, 1], [2, 7], [3, 17]]\n"
          ]
        }
      ]
    },
    {
      "cell_type": "markdown",
      "source": [
        "Question 6\n",
        "\n",
        "For calculating collision, we only care about a ball’s position in space, as well as its size. We can store a ball’s position with the (x, y) coordinates of its center point, and we can calculate its size if we know its radius r. Thus, we represent a ball in 2D space as a tuple of (x, y, r). To figure out if two balls are colliding, we need to compute the distance between their centers, then see if this distance is less than or equal to the sum of their radius. If so, they are colliding. Please define a function with two list as inputs (two balls’ position and radius [x,y,r]), test your function with three different cases."
      ],
      "metadata": {
        "id": "DyJXCQiMl1vO"
      }
    },
    {
      "cell_type": "code",
      "source": [
        "#Answer 6 Using Math function in Colab\n",
        "\n",
        "import math\n",
        "\n",
        "def are_balls_colliding(ball1, ball2):\n",
        "    \"\"\"\n",
        "    Determines if two balls are colliding.\n",
        "\n",
        "    Parameters:\n",
        "    ball1 (list): A list representing the first ball [x, y, r].\n",
        "    ball2 (list): A list representing the second ball [x, y, r].\n",
        "\n",
        "    Returns:\n",
        "    bool: True if the balls are colliding, otherwise False.\n",
        "    \"\"\"\n",
        "    x1, y1, r1 = ball1\n",
        "    x2, y2, r2 = ball2\n",
        "\n",
        "    # Calculate the distance between the centers of the two balls\n",
        "    distance = math.sqrt((x2 - x1) ** 2 + (y2 - y1) ** 2)\n",
        "\n",
        "    # Check if the distance is less than or equal to the sum of their radius\n",
        "    return distance <= (r1 + r2)"
      ],
      "metadata": {
        "id": "HROGKeijl3D1"
      },
      "execution_count": 11,
      "outputs": []
    },
    {
      "cell_type": "code",
      "source": [
        "# Test cases for the are_balls_colliding function\n",
        "\n",
        "# Case 1: Balls collide\n",
        "# Predict: True\n",
        "ball1 = [0, 0, 5]\n",
        "ball2 = [4, 3, 5]\n",
        "print(f\"Test Case 1 - are_balls_colliding({ball1}, {ball2}): {are_balls_colliding(ball1, ball2)}\")\n",
        "\n",
        "# Case 2: Balls don't collide\n",
        "# Predict: False\n",
        "ball1 = [0, 0, 5]\n",
        "ball2 = [10, 10, 5]\n",
        "print(f\"Test Case 2 - are_balls_colliding({ball1}, {ball2}): {are_balls_colliding(ball1, ball2)}\")\n",
        "\n",
        "# Case 3: Balls touching\n",
        "# Predict: True\n",
        "ball1 = [0, 0, 5]\n",
        "ball2 = [10, 0, 5]\n",
        "print(f\"Test Case 3 - are_balls_colliding({ball1}, {ball2}): {are_balls_colliding(ball1, ball2)}\")"
      ],
      "metadata": {
        "colab": {
          "base_uri": "https://localhost:8080/"
        },
        "id": "jSLWInVtl6eg",
        "outputId": "35e03111-0bf0-497b-f471-e5b6b8fcd024"
      },
      "execution_count": 12,
      "outputs": [
        {
          "output_type": "stream",
          "name": "stdout",
          "text": [
            "Test Case 1 - are_balls_colliding([0, 0, 5], [4, 3, 5]): True\n",
            "Test Case 2 - are_balls_colliding([0, 0, 5], [10, 10, 5]): False\n",
            "Test Case 3 - are_balls_colliding([0, 0, 5], [10, 0, 5]): True\n"
          ]
        }
      ]
    },
    {
      "cell_type": "markdown",
      "source": [
        "Question 7\n",
        "\n",
        "Scoring the words A set of score is given to you as below according to each English let- ters: LETTER ̇VALUES = ’a’: 1, ’b’: 1, ’c’: 5, ’d’: 6, ’e’: 1, ’f’: 4, ’g’: 2, ’h’: 4, ’i’: 1, ’j’: 8, ’k’: 6, ’l’: 1, ’m’: 4, ’n’: 1, ’o’: 1, ’p’: 3, ’q’: 11, ’r’: 1, ’s’: 1, ’t’: 1, ’u’: 1, ’v’: 5, ’w’: 4, ’x’: 8, ’y’: 6, ’z’: 10, ’ ’:100\n",
        "Please finish the “get_word_score” function for returning the correct word score (condition is given from function comments). The necessary library is given to you for importing (not other libraries should be used). Test with “Australia”, “Deakin” and your name for three cases.\n",
        "def get word score(word): ”””\n",
        "Returns the score for a word. Assumes the word is a valid word.\n",
        "You may assume that the input word is always either\n",
        "a string of letters ,\n",
        "and can not be the empty string ””.\n",
        "You may not assume that the string will only contain lowercase letters , so you will have to handle uppercase and mixed case strings\n",
        "appropriately .\n",
        "The score for a word is the product of two components:\n",
        "The first component is the sum of the points for letters in the word.\n",
        "The second component is the larger of: 1, or\n",
        "7∗wordlen − 3∗(20−wordlen ) ,\n",
        "where wordlen is the length of the word\n",
        "Letters are scored as in LETTER VALUES.\n",
        "word: string returns: int >= 0 ”””"
      ],
      "metadata": {
        "id": "ZXdezRaKmB5O"
      }
    },
    {
      "cell_type": "code",
      "source": [
        "#Answer 7\n",
        "\n",
        "# Define the LETTER_VALUES dictionary\n",
        "LETTER_VALUES = {\n",
        "    'a': 1, 'b': 1, 'c': 5, 'd': 6, 'e': 1, 'f': 4, 'g': 2, 'h': 4, 'i': 1,\n",
        "    'j': 8, 'k': 6, 'l': 1, 'm': 4, 'n': 1, 'o': 1, 'p': 3, 'q': 11, 'r': 1,\n",
        "    's': 1, 't': 1, 'u': 1, 'v': 5, 'w': 4, 'x': 8, 'y': 6, 'z': 10, ' ': 100\n",
        "}\n",
        "\n",
        "def get_word_score(word):\n",
        "    \"\"\"\n",
        "    Returns the score for a word. Assumes the word is a valid word.\n",
        "    You may assume that the input word is always either\n",
        "    a string of letters,\n",
        "    and cannot be the empty string.\n",
        "    You may not assume that the string will only contain lowercase letters,\n",
        "    so you will have to handle uppercase and mixed-case strings appropriately.\n",
        "    The score for a word is the product of two components:\n",
        "    - The first component is the sum of the points for letters in the word.\n",
        "    - The second component is the larger of: 1, or 7 * wordlen - 3 * (20 - wordlen),\n",
        "      where wordlen is the length of the word.\n",
        "    Letters are scored as in LETTER_VALUES.\n",
        "    \"\"\"\n",
        "    # Change the word to lowercase\n",
        "    word = word.lower()\n",
        "\n",
        "    # Sum of the points for letters in the word\n",
        "    letter_sum = sum(LETTER_VALUES[char] for char in word if char in LETTER_VALUES)\n",
        "\n",
        "    # Calculate the word length\n",
        "    wordlen = len(word)\n",
        "\n",
        "    # Calculate the second component\n",
        "    second_component = max(1, 7 * wordlen - 3 * (20 - wordlen))\n",
        "\n",
        "    # Return the product of the two components\n",
        "    return letter_sum * second_component"
      ],
      "metadata": {
        "id": "PMSwpI4MmDRA"
      },
      "execution_count": 13,
      "outputs": []
    },
    {
      "cell_type": "code",
      "source": [
        "# Test cases to print scores for three words\n",
        "words = [\"Australia\", \"Deakin\", \"Russell Bestman\"]\n",
        "for word in words:\n",
        "    print(f\"Score for '{word}': {get_word_score(word)}\")"
      ],
      "metadata": {
        "colab": {
          "base_uri": "https://localhost:8080/"
        },
        "id": "_19vLAHkmavU",
        "outputId": "22643fe5-5d6f-473b-db3c-3115d5f93d4c"
      },
      "execution_count": 15,
      "outputs": [
        {
          "output_type": "stream",
          "name": "stdout",
          "text": [
            "Score for 'Australia': 270\n",
            "Score for 'Deakin': 16\n",
            "Score for 'Russell Bestman': 10530\n"
          ]
        }
      ]
    },
    {
      "cell_type": "markdown",
      "source": [
        "Question 8\n",
        "\n",
        "Could you please use loop(s) with string character“*” to print as below Figure 3?"
      ],
      "metadata": {
        "id": "J5oDnsGdm7Cf"
      }
    },
    {
      "cell_type": "code",
      "source": [
        "def print_left_arrow():\n",
        "    n = 5  # For the middle width or longest part of the arrow\n",
        "\n",
        "    # For the top half of the arrow\n",
        "    for i in range(n):\n",
        "        print(\" \" * (n - i - 1) + \"*\" * (i + 1))\n",
        "\n",
        "    # For the bottom half of the arrow\n",
        "    for i in range(n - 1):\n",
        "        print(\" \" * (i + 1) + \"*\" * (n - i - 1))\n",
        "\n",
        "# Run the function to print the arrow shape\n",
        "print_left_arrow()"
      ],
      "metadata": {
        "colab": {
          "base_uri": "https://localhost:8080/"
        },
        "id": "XEyhwtkQx1iq",
        "outputId": "edfa1e0e-307a-4212-98b1-06a686693b37"
      },
      "execution_count": 25,
      "outputs": [
        {
          "output_type": "stream",
          "name": "stdout",
          "text": [
            "    *\n",
            "   **\n",
            "  ***\n",
            " ****\n",
            "*****\n",
            " ****\n",
            "  ***\n",
            "   **\n",
            "    *\n"
          ]
        }
      ]
    },
    {
      "cell_type": "markdown",
      "source": [
        "End of Part 1 of the Assessment"
      ],
      "metadata": {
        "id": "Iw2AZewmZn1w"
      }
    },
    {
      "cell_type": "markdown",
      "source": [
        "Part 2 of the Assesment"
      ],
      "metadata": {
        "id": "2kLBjX-PyNvo"
      }
    },
    {
      "cell_type": "code",
      "source": [],
      "metadata": {
        "id": "1Peiy80-zplT"
      },
      "execution_count": null,
      "outputs": []
    },
    {
      "cell_type": "code",
      "source": [
        "def sum_digits(n):\n",
        "    r = 0\n",
        "    while n:\n",
        "        r, n = r + n % 10, n // 10\n",
        "    return r\n",
        "\n",
        "def check_studentid(studentid):\n",
        "    x = sum_digits(studentid)\n",
        "    if x % 2 == 0:\n",
        "        print('Attempt Version 1')\n",
        "    else:\n",
        "        print('Attempt Version 2')\n",
        "\n",
        "check_studentid(221371391)"
      ],
      "metadata": {
        "colab": {
          "base_uri": "https://localhost:8080/"
        },
        "id": "FnnjG_7nyRHe",
        "outputId": "f8311505-0ff8-4e54-a043-159488eaf7ec"
      },
      "execution_count": 23,
      "outputs": [
        {
          "output_type": "stream",
          "name": "stdout",
          "text": [
            "Attempt Version 2\n"
          ]
        }
      ]
    },
    {
      "cell_type": "markdown",
      "source": [
        "Version 2 - Question 1"
      ],
      "metadata": {
        "id": "aGu5B6SoZaTk"
      }
    },
    {
      "cell_type": "code",
      "source": [
        "def calculate_months_to_save(total_cost, annual_salary, portion_saved):\n",
        "    # Constants\n",
        "    portion_down_payment = 0.15  # 15% of total cost\n",
        "    current_savings = 0\n",
        "    r = 0.04  # Annual return rate\n",
        "\n",
        "    # Calculate the amount needed for the down payment\n",
        "    down_payment = total_cost * portion_down_payment\n",
        "\n",
        "    # Calculate the monthly savings from salary\n",
        "    monthly_salary = annual_salary / 12\n",
        "\n",
        "    # Initialise month counter\n",
        "    months = 0\n",
        "\n",
        "    # Loop until current savings reach or exceed the down payment\n",
        "    while current_savings < down_payment:\n",
        "        # Calculate monthly return on investment\n",
        "        monthly_return = current_savings * r / 12\n",
        "        # Calculate monthly savings from salary\n",
        "        monthly_savings = monthly_salary * portion_saved\n",
        "        # Update current savings\n",
        "        current_savings += monthly_return + monthly_savings\n",
        "        # Increment month counter\n",
        "        months += 1\n",
        "\n",
        "    return months\n",
        "\n",
        "# Example use, admin controlled\n",
        "total_cost = 800000  # Cost of the house\n",
        "annual_salary = 100000  # Annual salary\n",
        "portion_saved = 0.3  # Portion of the salary saved each month (30%)\n",
        "\n",
        "months_needed = calculate_months_to_save(total_cost, annual_salary, portion_saved)\n",
        "print(f\"Number of months needed to save your deposit: {months_needed}\")"
      ],
      "metadata": {
        "colab": {
          "base_uri": "https://localhost:8080/"
        },
        "id": "alWbi9zzzqbd",
        "outputId": "91efc5b6-c40f-4626-c062-db92a4492c8d"
      },
      "execution_count": 38,
      "outputs": [
        {
          "output_type": "stream",
          "name": "stdout",
          "text": [
            "Number of months needed to save your deposit: 45\n"
          ]
        }
      ]
    },
    {
      "cell_type": "code",
      "source": [
        "def calculate_months_to_save():\n",
        "\n",
        "    # Float input function to prompt for further details\n",
        "    annual_salary = float(input(\"Enter your starting annual salary: \"))\n",
        "    portion_saved = float(input(\"Enter the portion of your salary to be saved (as a decimal): \"))\n",
        "    total_cost = float(input(\"Enter the cost of your dream home: \"))\n",
        "\n",
        "    # Constants\n",
        "    portion_down_payment = 0.15  # 15% of total cost, can be changed as needed\n",
        "    current_savings = 0\n",
        "    r = 0.04  # Annual return rate, also can be changed as needed\n",
        "\n",
        "    # Calculate the amount needed for the down payment\n",
        "    down_payment = total_cost * portion_down_payment\n",
        "\n",
        "    # Calculate the monthly savings from salary\n",
        "    monthly_salary = annual_salary / 12\n",
        "\n",
        "    # Start month counter at zero\n",
        "    months = 0\n",
        "\n",
        "    # Loop until current savings reach or exceed the down payment\n",
        "    while current_savings < down_payment:\n",
        "        # Calculate monthly return on investment (Static)\n",
        "        monthly_return = current_savings * r / 12\n",
        "        # Calculate monthly savings from salary\n",
        "        monthly_savings = monthly_salary * portion_saved\n",
        "        # Update current savings\n",
        "        current_savings += monthly_return + monthly_savings\n",
        "        # Increment month counter\n",
        "        months += 1\n",
        "\n",
        "    return months\n",
        "\n",
        "# Print the results\n",
        "months_needed = calculate_months_to_save()\n",
        "print(f\"Number of months needed: {months_needed}\")"
      ],
      "metadata": {
        "colab": {
          "base_uri": "https://localhost:8080/"
        },
        "id": "vem5R1ENeAxo",
        "outputId": "49680983-268d-4991-9da9-d7ad8346c3ef"
      },
      "execution_count": 29,
      "outputs": [
        {
          "output_type": "stream",
          "name": "stdout",
          "text": [
            "Enter your starting annual salary: 100000\n",
            "Enter the portion of your salary to be saved (as a decimal): 0.3\n",
            "Enter the cost of your dream home: 800000\n",
            "Number of months needed: 45\n"
          ]
        }
      ]
    },
    {
      "cell_type": "markdown",
      "source": [
        "Version 2 - Question 2"
      ],
      "metadata": {
        "id": "GKOjZZGGZh0G"
      }
    },
    {
      "cell_type": "code",
      "source": [
        "def calculate_months_to_save_with_raise(total_cost, annual_salary, portion_saved, annual_raise):\n",
        "    # Constants\n",
        "    portion_down_payment = 0.15  # 15% of total cost\n",
        "    current_savings = 0\n",
        "    r = 0.04  # Annual rate of return\n",
        "\n",
        "    # Calculate the amount needed for the down payment\n",
        "    down_payment = total_cost * portion_down_payment\n",
        "\n",
        "    # Start month counter\n",
        "    months = 0\n",
        "\n",
        "    while current_savings < down_payment:\n",
        "        # Calculate monthly return on investment (static)\n",
        "        monthly_return = current_savings * r / 12\n",
        "\n",
        "        # Calculate monthly savings from salary\n",
        "        monthly_savings = (annual_salary / 12) * portion_saved\n",
        "\n",
        "        # Update current savings\n",
        "        current_savings += monthly_return + monthly_savings\n",
        "\n",
        "        # Increment month counter\n",
        "        months += 1\n",
        "\n",
        "        # Apply the annual raise every 12 months\n",
        "        if months % 12 == 0:\n",
        "            annual_salary += annual_salary * annual_raise\n",
        "\n",
        "    return months\n",
        "\n",
        "# Prompt user for input, overlay question 1 with addition of annual salary increase\n",
        "total_cost = float(input(\"What's the cost of the home you would like to buy: \"))\n",
        "annual_salary = float(input(\"What's your current annual salary: \"))\n",
        "portion_saved = float(input(\"What portion of your annual salary do you save (as a decimal): \"))\n",
        "annual_raise = float(input(\"What's your expected annual salary increase (as a decimal): \"))\n",
        "\n",
        "months_needed = calculate_months_to_save_with_raise(total_cost, annual_salary, portion_saved, annual_raise)\n",
        "print(f\"Number of months needed: {months_needed}\")"
      ],
      "metadata": {
        "colab": {
          "base_uri": "https://localhost:8080/"
        },
        "id": "t50-uK_TRQjf",
        "outputId": "21aad55c-8af8-47b7-adc5-f9293f380632"
      },
      "execution_count": 36,
      "outputs": [
        {
          "output_type": "stream",
          "name": "stdout",
          "text": [
            "What's the cost of the home you would like to buy: 800000\n",
            "What's your current annual salary: 100000\n",
            "What portion of your annual salary do you save (as a decimal): 0.3\n",
            "What's your expected annual salary increase (as a decimal): 0.05\n",
            "Number of months needed: 43\n"
          ]
        }
      ]
    }
  ]
}